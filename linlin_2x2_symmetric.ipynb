{
 "cells": [
  {
   "cell_type": "code",
   "execution_count": 1,
   "metadata": {},
   "outputs": [],
   "source": [
    "import numpy as np\n",
    "from scipy import linalg\n",
    "from qiskit import QuantumCircuit\n",
    "from qiskit.quantum_info.operators import Operator\n",
    "\n",
    "from utils_decompose import global_phase_gate, ucry_decomposition_2x2_symmetric, ucry_decomposition_optimize\n",
    "from utils_block_encode import is_unitary, transfer_matrix\n",
    "from utils import universal_be\n",
    "from utils_linlin import linlin_2x2_symmetric_optimize"
   ]
  },
  {
   "cell_type": "code",
   "execution_count": 2,
   "metadata": {},
   "outputs": [
    {
     "name": "stdout",
     "output_type": "stream",
     "text": [
      "Matrix:\n",
      " [[-0.36391889 -0.07510659]\n",
      " [-0.07510659 -0.36391889]]\n",
      "-> untary: False\n",
      "Enlarge:\n",
      " [[-0.364 -0.075 -0.364  0.075 -0.343 -0.494 -0.343  0.494]\n",
      " [-0.075 -0.364  0.075 -0.364 -0.494 -0.343  0.494 -0.343]\n",
      " [-0.364  0.075 -0.364 -0.075 -0.343  0.494 -0.343 -0.494]\n",
      " [ 0.075 -0.364 -0.075 -0.364  0.494 -0.343 -0.494 -0.343]\n",
      " [ 0.343  0.494  0.343 -0.494 -0.364 -0.075 -0.364  0.075]\n",
      " [ 0.494  0.343 -0.494  0.343 -0.075 -0.364  0.075 -0.364]\n",
      " [ 0.343 -0.494  0.343  0.494 -0.364  0.075 -0.364 -0.075]\n",
      " [-0.494  0.343  0.494  0.343  0.075 -0.364 -0.075 -0.364]]\n",
      "-> untary: True\n"
     ]
    }
   ],
   "source": [
    "a,b = np.random.rand()*2-1,np.random.rand()*2-1\n",
    "\n",
    "M = 0.5*np.matrix([[a,b],[b,a]])\n",
    "print(\"Matrix:\\n\",M)\n",
    "print(\"-> untary:\", is_unitary(M))\n",
    "\n",
    "enlarge_a = 0.5*np.matrix([[a,b,a,-b],\n",
    "                           [b,a,-b,a],\n",
    "                           [a,-b,a,b],\n",
    "                           [-b,a,b,a]])\n",
    "\n",
    "c,d = np.sqrt(1-a**2),np.sqrt(1-b**2)\n",
    "enlarge_b = 0.5*np.matrix([[c,d,c,-d],\n",
    "                           [d,c,-d,c],\n",
    "                           [c,-d,c,d],\n",
    "                           [-d,c,d,c]])\n",
    "\n",
    "enlarge_M = np.eye(8)\n",
    "enlarge_M[:4,:4] = enlarge_a\n",
    "enlarge_M[:4,4:] = -enlarge_b\n",
    "enlarge_M[4:,:4] = enlarge_b\n",
    "enlarge_M[4:,4:] = enlarge_a\n",
    "\n",
    "print(\"Enlarge:\\n\",np.round(enlarge_M,3))\n",
    "print(\"-> untary:\", is_unitary(enlarge_M))"
   ]
  },
  {
   "cell_type": "code",
   "execution_count": 3,
   "metadata": {},
   "outputs": [
    {
     "data": {
      "text/latex": [
       "$\\displaystyle \\left[\\begin{matrix}0.5 \\cos{\\left(\\frac{a}{2} \\right)} & 0.5 \\cos{\\left(\\frac{a}{2} + \\frac{b}{2} \\right)} & 0.5 \\cos{\\left(\\frac{a}{2} \\right)} & - 0.5 \\cos{\\left(\\frac{a}{2} + \\frac{b}{2} \\right)} & - 0.5 \\sin{\\left(\\frac{a}{2} \\right)} & - 0.5 \\sin{\\left(\\frac{a}{2} + \\frac{b}{2} \\right)} & - 0.5 \\sin{\\left(\\frac{a}{2} \\right)} & 0.5 \\sin{\\left(\\frac{a}{2} + \\frac{b}{2} \\right)}\\\\0.5 \\cos{\\left(\\frac{a}{2} + \\frac{b}{2} \\right)} & 0.5 \\cos{\\left(\\frac{a}{2} \\right)} & - 0.5 \\cos{\\left(\\frac{a}{2} + \\frac{b}{2} \\right)} & 0.5 \\cos{\\left(\\frac{a}{2} \\right)} & - 0.5 \\sin{\\left(\\frac{a}{2} + \\frac{b}{2} \\right)} & - 0.5 \\sin{\\left(\\frac{a}{2} \\right)} & 0.5 \\sin{\\left(\\frac{a}{2} + \\frac{b}{2} \\right)} & - 0.5 \\sin{\\left(\\frac{a}{2} \\right)}\\\\0.5 \\cos{\\left(\\frac{a}{2} \\right)} & - 0.5 \\cos{\\left(\\frac{a}{2} + \\frac{b}{2} \\right)} & 0.5 \\cos{\\left(\\frac{a}{2} \\right)} & 0.5 \\cos{\\left(\\frac{a}{2} + \\frac{b}{2} \\right)} & - 0.5 \\sin{\\left(\\frac{a}{2} \\right)} & 0.5 \\sin{\\left(\\frac{a}{2} + \\frac{b}{2} \\right)} & - 0.5 \\sin{\\left(\\frac{a}{2} \\right)} & - 0.5 \\sin{\\left(\\frac{a}{2} + \\frac{b}{2} \\right)}\\\\- 0.5 \\cos{\\left(\\frac{a}{2} + \\frac{b}{2} \\right)} & 0.5 \\cos{\\left(\\frac{a}{2} \\right)} & 0.5 \\cos{\\left(\\frac{a}{2} + \\frac{b}{2} \\right)} & 0.5 \\cos{\\left(\\frac{a}{2} \\right)} & 0.5 \\sin{\\left(\\frac{a}{2} + \\frac{b}{2} \\right)} & - 0.5 \\sin{\\left(\\frac{a}{2} \\right)} & - 0.5 \\sin{\\left(\\frac{a}{2} + \\frac{b}{2} \\right)} & - 0.5 \\sin{\\left(\\frac{a}{2} \\right)}\\\\0.5 \\sin{\\left(\\frac{a}{2} \\right)} & 0.5 \\sin{\\left(\\frac{a}{2} + \\frac{b}{2} \\right)} & 0.5 \\sin{\\left(\\frac{a}{2} \\right)} & - 0.5 \\sin{\\left(\\frac{a}{2} + \\frac{b}{2} \\right)} & 0.5 \\cos{\\left(\\frac{a}{2} \\right)} & 0.5 \\cos{\\left(\\frac{a}{2} + \\frac{b}{2} \\right)} & 0.5 \\cos{\\left(\\frac{a}{2} \\right)} & - 0.5 \\cos{\\left(\\frac{a}{2} + \\frac{b}{2} \\right)}\\\\0.5 \\sin{\\left(\\frac{a}{2} + \\frac{b}{2} \\right)} & 0.5 \\sin{\\left(\\frac{a}{2} \\right)} & - 0.5 \\sin{\\left(\\frac{a}{2} + \\frac{b}{2} \\right)} & 0.5 \\sin{\\left(\\frac{a}{2} \\right)} & 0.5 \\cos{\\left(\\frac{a}{2} + \\frac{b}{2} \\right)} & 0.5 \\cos{\\left(\\frac{a}{2} \\right)} & - 0.5 \\cos{\\left(\\frac{a}{2} + \\frac{b}{2} \\right)} & 0.5 \\cos{\\left(\\frac{a}{2} \\right)}\\\\0.5 \\sin{\\left(\\frac{a}{2} \\right)} & - 0.5 \\sin{\\left(\\frac{a}{2} + \\frac{b}{2} \\right)} & 0.5 \\sin{\\left(\\frac{a}{2} \\right)} & 0.5 \\sin{\\left(\\frac{a}{2} + \\frac{b}{2} \\right)} & 0.5 \\cos{\\left(\\frac{a}{2} \\right)} & - 0.5 \\cos{\\left(\\frac{a}{2} + \\frac{b}{2} \\right)} & 0.5 \\cos{\\left(\\frac{a}{2} \\right)} & 0.5 \\cos{\\left(\\frac{a}{2} + \\frac{b}{2} \\right)}\\\\- 0.5 \\sin{\\left(\\frac{a}{2} + \\frac{b}{2} \\right)} & 0.5 \\sin{\\left(\\frac{a}{2} \\right)} & 0.5 \\sin{\\left(\\frac{a}{2} + \\frac{b}{2} \\right)} & 0.5 \\sin{\\left(\\frac{a}{2} \\right)} & - 0.5 \\cos{\\left(\\frac{a}{2} + \\frac{b}{2} \\right)} & 0.5 \\cos{\\left(\\frac{a}{2} \\right)} & 0.5 \\cos{\\left(\\frac{a}{2} + \\frac{b}{2} \\right)} & 0.5 \\cos{\\left(\\frac{a}{2} \\right)}\\end{matrix}\\right]$"
      ],
      "text/plain": [
       "[[0.5*cos(a/2), 0.5*cos(a/2 + b/2), 0.5*cos(a/2), -0.5*cos(a/2 + b/2), -0.5*sin(a/2), -0.5*sin(a/2 + b/2), -0.5*sin(a/2), 0.5*sin(a/2 + b/2)], [0.5*cos(a/2 + b/2), 0.5*cos(a/2), -0.5*cos(a/2 + b/2), 0.5*cos(a/2), -0.5*sin(a/2 + b/2), -0.5*sin(a/2), 0.5*sin(a/2 + b/2), -0.5*sin(a/2)], [0.5*cos(a/2), -0.5*cos(a/2 + b/2), 0.5*cos(a/2), 0.5*cos(a/2 + b/2), -0.5*sin(a/2), 0.5*sin(a/2 + b/2), -0.5*sin(a/2), -0.5*sin(a/2 + b/2)], [-0.5*cos(a/2 + b/2), 0.5*cos(a/2), 0.5*cos(a/2 + b/2), 0.5*cos(a/2), 0.5*sin(a/2 + b/2), -0.5*sin(a/2), -0.5*sin(a/2 + b/2), -0.5*sin(a/2)], [0.5*sin(a/2), 0.5*sin(a/2 + b/2), 0.5*sin(a/2), -0.5*sin(a/2 + b/2), 0.5*cos(a/2), 0.5*cos(a/2 + b/2), 0.5*cos(a/2), -0.5*cos(a/2 + b/2)], [0.5*sin(a/2 + b/2), 0.5*sin(a/2), -0.5*sin(a/2 + b/2), 0.5*sin(a/2), 0.5*cos(a/2 + b/2), 0.5*cos(a/2), -0.5*cos(a/2 + b/2), 0.5*cos(a/2)], [0.5*sin(a/2), -0.5*sin(a/2 + b/2), 0.5*sin(a/2), 0.5*sin(a/2 + b/2), 0.5*cos(a/2), -0.5*cos(a/2 + b/2), 0.5*cos(a/2), 0.5*cos(a/2 + b/2)], [-0.5*sin(a/2 + b/2), 0.5*sin(a/2), 0.5*sin(a/2 + b/2), 0.5*sin(a/2), -0.5*cos(a/2 + b/2), 0.5*cos(a/2), 0.5*cos(a/2 + b/2), 0.5*cos(a/2)]]"
      ]
     },
     "execution_count": 3,
     "metadata": {},
     "output_type": "execute_result"
    }
   ],
   "source": [
    "import sympy as sp\n",
    "\n",
    "aa,bb = sp.symbols('a'),sp.symbols('b')\n",
    "ii = np.eye(2)\n",
    "c1 = np.matrix([[1,0,0,0],[0,0,0,1],[0,0,1,0],[0,1,0,0]])\n",
    "c2 = np.matrix([[1,0,0,0],[0,1,0,0],[0,0,0,1],[0,0,1,0]])\n",
    "h = np.matrix([[1,1],[1,-1]])/np.sqrt(2)\n",
    "\n",
    "def sym_ry(x): return np.matrix([[sp.cos(x/2),-sp.sin(x/2)],[sp.sin(x/2),sp.cos(x/2)]])\n",
    "\n",
    "# difusser\n",
    "T1 = np.kron(np.kron(ii,h),ii)\n",
    "# oracle_c\n",
    "T2 = np.kron(ii,c2)\n",
    "# oracle_a\n",
    "T3 = np.kron(np.kron(sym_ry(bb/2),ii),ii)\n",
    "T4 = np.kron(c1,ii)\n",
    "T5 = np.kron(np.kron(sym_ry(-bb/2),ii),ii)\n",
    "T6 = np.kron(np.kron(sym_ry(aa),ii),ii)\n",
    "\n",
    "TT = T1@T6@T4@T5@T4@T3@T2@T1\n",
    "\n",
    "sp.simplify(TT)"
   ]
  },
  {
   "cell_type": "code",
   "execution_count": 4,
   "metadata": {},
   "outputs": [],
   "source": [
    "t1 = 2*np.arccos(a)\n",
    "t2 = 2*np.arccos(b) - t1"
   ]
  },
  {
   "cell_type": "code",
   "execution_count": 5,
   "metadata": {},
   "outputs": [
    {
     "name": "stdout",
     "output_type": "stream",
     "text": [
      "Matrix:\n",
      " [[-0.364 -0.075]\n",
      " [-0.075 -0.364]]\n",
      "-> untary: False\n",
      "Circuit matrix (upper left block):\n",
      " [[-0.364+0.j -0.075+0.j -0.364+0.j  0.075+0.j]\n",
      " [-0.075+0.j -0.364+0.j  0.075+0.j -0.364+0.j]\n",
      " [-0.364+0.j  0.075+0.j -0.364+0.j -0.075+0.j]\n",
      " [ 0.075+0.j -0.364+0.j -0.075+0.j -0.364+0.j]]\n",
      "-> untary: True\n",
      "Successfully encode matrix using Block Encoding: True\n"
     ]
    },
    {
     "data": {
      "image/png": "[encoded data removed]",
      "text/plain": [
       "<Figure size 447.797x204.68 with 1 Axes>"
      ]
     },
     "execution_count": 5,
     "metadata": {},
     "output_type": "execute_result"
    }
   ],
   "source": [
    "qc = QuantumCircuit(3)\n",
    "\n",
    "qc.h(1)\n",
    "# qc.cx(1,0)\n",
    "\n",
    "# cry\n",
    "qc.ry(t2/2,2)\n",
    "qc.cx(1,2)\n",
    "qc.ry(-t2/2,2)\n",
    "qc.cx(1,2)\n",
    "\n",
    "qc.ry(t1,2)\n",
    "\n",
    "qc.cx(1,0)\n",
    "qc.h(1)\n",
    "\n",
    "print(\"Matrix:\\n\",np.round(M,3)[:2,:2])\n",
    "print(\"-> untary:\", is_unitary(M))\n",
    "\n",
    "print(\"Circuit matrix (upper left block):\\n\",np.round(np.matrix(Operator(qc)),3)[:4,:4])\n",
    "print(\"-> untary:\", is_unitary(Operator(qc)))\n",
    "\n",
    "print(\"Successfully encode matrix using Block Encoding:\",np.allclose(M[:2,:2], np.matrix(Operator(qc))[:2,:2]))\n",
    "qc.draw(output=\"mpl\")"
   ]
  },
  {
   "cell_type": "code",
   "execution_count": 6,
   "metadata": {},
   "outputs": [
    {
     "name": "stdout",
     "output_type": "stream",
     "text": [
      "Matrix:\n",
      " [[-0.364 -0.075]\n",
      " [-0.075 -0.364]]\n",
      "-> untary: False\n",
      "Circuit matrix (upper left block):\n",
      " [[-0.364+0.j -0.075+0.j -0.029-0.j  0.928-0.j]\n",
      " [-0.075+0.j -0.364+0.j  0.928-0.j -0.029-0.j]\n",
      " [-0.928+0.j  0.029+0.j -0.075+0.j -0.364+0.j]\n",
      " [ 0.029+0.j -0.928+0.j -0.364+0.j -0.075+0.j]]\n",
      "-> untary: True\n",
      "Successfully encode matrix using Block Encoding: True\n"
     ]
    },
    {
     "data": {
      "image/png": "[encoded data removed]",
      "text/plain": [
       "<Figure size 447.652x144.48 with 1 Axes>"
      ]
     },
     "execution_count": 6,
     "metadata": {},
     "output_type": "execute_result"
    }
   ],
   "source": [
    "qc = QuantumCircuit(2)\n",
    "\n",
    "phase = 0\n",
    "phase = universal_be(qc,M,range(2),phase)\n",
    "\n",
    "global_phase_gate(qc,phase,0)\n",
    "\n",
    "print(\"Matrix:\\n\",np.round(M,3)[:2,:2])\n",
    "print(\"-> untary:\", is_unitary(M))\n",
    "\n",
    "print(\"Circuit matrix (upper left block):\\n\",np.round(np.matrix(Operator(qc)),3))\n",
    "print(\"-> untary:\", is_unitary(Operator(qc)))\n",
    "\n",
    "print(\"Successfully encode matrix using Block Encoding:\",np.allclose(M[:2,:2], np.matrix(Operator(qc))[:2,:2]))\n",
    "qc.draw(output=\"mpl\",fold=-1)"
   ]
  },
  {
   "cell_type": "code",
   "execution_count": 7,
   "metadata": {},
   "outputs": [
    {
     "name": "stdout",
     "output_type": "stream",
     "text": [
      "Matrix:\n",
      " [[-0.364 -0.075]\n",
      " [-0.075 -0.364]]\n",
      "-> untary: False\n",
      "Circuit matrix (upper left block):\n",
      " [[-0.364+0.j -0.075+0.j  0.029+0.j -0.928+0.j]\n",
      " [-0.075+0.j -0.364+0.j -0.928+0.j  0.029+0.j]\n",
      " [ 0.928+0.j -0.029+0.j -0.075+0.j -0.364+0.j]\n",
      " [-0.029+0.j  0.928+0.j -0.364+0.j -0.075+0.j]]\n",
      "-> untary: True\n",
      "Successfully encode matrix using Block Encoding: True\n"
     ]
    },
    {
     "data": {
      "image/png": "[encoded data removed]",
      "text/plain": [
       "<Figure size 267.052x144.48 with 1 Axes>"
      ]
     },
     "execution_count": 7,
     "metadata": {},
     "output_type": "execute_result"
    }
   ],
   "source": [
    "qc = QuantumCircuit(2)\n",
    "\n",
    "qc.h(0)\n",
    "\n",
    "D_optimized = linlin_2x2_symmetric_optimize(M)\n",
    "ucry_decomposition_optimize(qc,2,np.real(D_optimized)@transfer_matrix(2),range(2))\n",
    "\n",
    "qc.h(0)\n",
    "\n",
    "print(\"Matrix:\\n\",np.round(M,3)[:2,:2])\n",
    "print(\"-> untary:\", is_unitary(M))\n",
    "\n",
    "print(\"Circuit matrix (upper left block):\\n\",np.round(np.matrix(Operator(qc)),3)[:4,:4])\n",
    "print(\"-> untary:\", is_unitary(Operator(qc)))\n",
    "\n",
    "print(\"Successfully encode matrix using Block Encoding:\",np.allclose(M[:2,:2], np.matrix(Operator(qc))[:2,:2]))\n",
    "qc.draw(output=\"mpl\",fold=-1)"
   ]
  }
 ],
 "metadata": {
  "kernelspec": {
   "display_name": "Python 3.9.12 ('base')",
   "language": "python",
   "name": "python3"
  },
  "language_info": {
   "codemirror_mode": {
    "name": "ipython",
    "version": 3
   },
   "file_extension": ".py",
   "mimetype": "text/x-python",
   "name": "python",
   "nbconvert_exporter": "python",
   "pygments_lexer": "ipython3",
   "version": "3.9.12"
  },
  "orig_nbformat": 4,
  "vscode": {
   "interpreter": {
    "hash": "567066c23fe75d4951ebba463616a12e21f3ac884aba845053c257fc26c45e45"
   }
  }
 },
 "nbformat": 4,
 "nbformat_minor": 2
}
