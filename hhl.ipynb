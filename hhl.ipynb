{
 "cells": [
  {
   "cell_type": "code",
   "execution_count": 1,
   "metadata": {},
   "outputs": [],
   "source": [
    "import numpy as np\n",
    "import scipy as sp\n",
    "import scipy.linalg\n",
    "\n",
    "from qiskit import  BasicAer, Aer, execute, assemble, QuantumCircuit\n",
    "from qiskit.quantum_info.operators import Operator\n",
    "backend = Aer.get_backend(\"qasm_simulator\")\n",
    "\n",
    "from qiskit.visualization import plot_histogram, plot_bloch_multivector\n",
    "\n",
    "from utils_decompose import demultiplexor,cos_sin_decomposition,ucrz_decomposition\n",
    "from utils_block_encode import is_unitary\n",
    "from utils import matrix_distance, universal_ud, global_phase_gate\n",
    "\n",
    "from utils_hhl import qft, qft_dagger, CU_12, CU_3, CU_4, CU_3_"
   ]
  },
  {
   "cell_type": "markdown",
   "metadata": {},
   "source": [
    "$A = \\begin{bmatrix}15&9&5&-3\\\\9&15&3&-5\\\\5&3&15&-9\\\\-3&-5&-9&15\\end{bmatrix}$, $b = \\begin{bmatrix}0\\\\0\\\\0\\\\1\\end{bmatrix}\\longrightarrow  x = \\begin{bmatrix}-0.09375\\\\0.15625\\\\0.28125\\\\0.46875\\end{bmatrix}$"
   ]
  },
  {
   "cell_type": "code",
   "execution_count": 2,
   "metadata": {},
   "outputs": [
    {
     "name": "stdout",
     "output_type": "stream",
     "text": [
      "Eigenvalues: [8. 4. 1. 2.]\n",
      "Eigenvectors:\n",
      " [[ 0.5  0.5  0.5  0.5]\n",
      " [ 0.5  0.5 -0.5 -0.5]\n",
      " [ 0.5 -0.5 -0.5  0.5]\n",
      " [-0.5  0.5 -0.5  0.5]]\n",
      "Euclidean norm: 0.5762215285808053\n"
     ]
    }
   ],
   "source": [
    "M = (1/4)*np.array([[15, 9, 5,-3],\n",
    "                    [ 9,15, 3,-5],\n",
    "                    [ 5, 3,15,-9],\n",
    "                    [-3,-5,-9,15]])\n",
    "b = np.array([0, 0, 0, 1])\n",
    "\n",
    "classic_solution = np.linalg.solve(M,b)\n",
    "norm = np.linalg.norm(classic_solution)\n",
    "eigenvals,eigenvecs=np.linalg.eig(M)\n",
    "print(\"Eigenvalues:\",eigenvals)\n",
    "print(\"Eigenvectors:\\n\",eigenvecs)\n",
    "print(\"Euclidean norm:\",norm)"
   ]
  },
  {
   "cell_type": "code",
   "execution_count": 3,
   "metadata": {},
   "outputs": [
    {
     "name": "stdout",
     "output_type": "stream",
     "text": [
      "[[ 0.25+0.25j  0.75-0.25j -0.25-0.25j -0.25-0.25j]\n",
      " [ 0.75-0.25j  0.25+0.25j  0.25+0.25j  0.25+0.25j]\n",
      " [-0.25-0.25j  0.25+0.25j  0.25+0.25j -0.75+0.25j]\n",
      " [-0.25-0.25j  0.25+0.25j -0.75+0.25j  0.25+0.25j]]\n",
      "True\n",
      "[[ 1.  +0.j    0.  +0.j    0.  +0.j    0.  +0.j    0.  +0.j    0.  +0.j\n",
      "   0.  +0.j    0.  +0.j  ]\n",
      " [ 0.  +0.j    1.  +0.j    0.  +0.j    0.  +0.j    0.  +0.j    0.  +0.j\n",
      "   0.  +0.j    0.  +0.j  ]\n",
      " [ 0.  +0.j    0.  +0.j    1.  +0.j    0.  +0.j    0.  +0.j    0.  +0.j\n",
      "   0.  +0.j    0.  +0.j  ]\n",
      " [ 0.  +0.j    0.  +0.j    0.  +0.j    1.  +0.j    0.  +0.j    0.  +0.j\n",
      "   0.  +0.j    0.  +0.j  ]\n",
      " [ 0.  +0.j    0.  +0.j    0.  +0.j    0.  +0.j    0.25+0.25j  0.75-0.25j\n",
      "  -0.25-0.25j -0.25-0.25j]\n",
      " [ 0.  +0.j    0.  +0.j    0.  +0.j    0.  +0.j    0.75-0.25j  0.25+0.25j\n",
      "   0.25+0.25j  0.25+0.25j]\n",
      " [ 0.  +0.j    0.  +0.j    0.  +0.j    0.  +0.j   -0.25-0.25j  0.25+0.25j\n",
      "   0.25+0.25j -0.75+0.25j]\n",
      " [ 0.  +0.j    0.  +0.j    0.  +0.j    0.  +0.j   -0.25-0.25j  0.25+0.25j\n",
      "  -0.75+0.25j  0.25+0.25j]]\n",
      "True\n"
     ]
    }
   ],
   "source": [
    "t = (1/8)*np.pi\n",
    "U_A, C_U = np.eye(4, dtype='complex'), np.eye(8, dtype='complex')\n",
    "for i in range(4): U_A = sp.linalg.expm(1j*M*t)@U_A\n",
    "C_U[4:8,4:8] = U_A \n",
    "print(np.round(U_A,3))\n",
    "print(is_unitary(U_A))\n",
    "print(np.round(C_U,3))\n",
    "print(is_unitary(C_U))"
   ]
  },
  {
   "cell_type": "code",
   "execution_count": 4,
   "metadata": {},
   "outputs": [],
   "source": [
    "trans_matrix = np.eye(8,dtype=\"complex\")\n",
    "trans_matrix[5,5],trans_matrix[7,7] = -1,-1\n",
    "\n",
    "# C_U = C_U@trans_matrix\n",
    "\n",
    "# U,CS,V = cos_sin_decomposition(C_U,3)\n",
    "# np.round(CS,3)"
   ]
  },
  {
   "cell_type": "code",
   "execution_count": 5,
   "metadata": {},
   "outputs": [
    {
     "name": "stdout",
     "output_type": "stream",
     "text": [
      "[[[-0.354+0.354j  0.369-0.337j  0.03 +0.6j   -0.015-0.373j]\n",
      "  [ 0.354-0.354j -0.369+0.337j  0.03 +0.6j   -0.015-0.373j]\n",
      "  [-0.354+0.354j -0.369+0.337j -0.234+0.29j  -0.382+0.464j]\n",
      "  [-0.354+0.354j -0.369+0.337j  0.234-0.29j   0.382-0.464j]]\n",
      "\n",
      " [[-1.   -0.j    -0.   -0.j     0.   -0.j    -0.   -0.j   ]\n",
      "  [ 0.   +0.j     0.   -1.j     0.   -0.j     0.   -0.j   ]\n",
      "  [ 0.   +0.j     0.   +0.j     1.   +0.j    -0.   +0.j   ]\n",
      "  [ 0.   +0.j     0.   +0.j     0.   +0.j     1.   +0.j   ]]\n",
      "\n",
      " [[-0.354-0.354j  0.354+0.354j -0.354-0.354j -0.354-0.354j]\n",
      "  [ 0.369+0.337j -0.369-0.337j -0.369-0.337j -0.369-0.337j]\n",
      "  [ 0.03 -0.6j    0.03 -0.6j   -0.234-0.29j   0.234+0.29j ]\n",
      "  [-0.015+0.373j -0.015+0.373j -0.382-0.464j  0.382+0.464j]]]\n",
      "True True True\n",
      "[[ 0.25-0.25j  0.75+0.25j -0.25+0.25j -0.25+0.25j]\n",
      " [ 0.75+0.25j  0.25-0.25j  0.25-0.25j  0.25-0.25j]\n",
      " [-0.25+0.25j  0.25-0.25j  0.25-0.25j -0.75-0.25j]\n",
      " [-0.25+0.25j  0.25-0.25j -0.75-0.25j  0.25-0.25j]]\n",
      "[[ 0.25+0.25j  0.75-0.25j -0.25-0.25j -0.25-0.25j]\n",
      " [ 0.75-0.25j  0.25+0.25j  0.25+0.25j  0.25+0.25j]\n",
      " [-0.25-0.25j  0.25+0.25j  0.25+0.25j -0.75+0.25j]\n",
      " [-0.25-0.25j  0.25+0.25j -0.75+0.25j  0.25+0.25j]]\n"
     ]
    }
   ],
   "source": [
    "M1,M2 = np.matrix(C_U[:4,:4]),np.matrix(C_U[4:,4:])\n",
    "M_ = M1@M2.H\n",
    "\n",
    "eigenvals,eigenvecs = scipy.linalg.schur(M_)\n",
    "\n",
    "U = eigenvecs\n",
    "# D = np.sqrt(np.matrix(np.diag(eigenvals),dtype=\"complex\"))\n",
    "D = np.matrix(eigenvals,dtype=\"complex\")\n",
    "V = D@np.linalg.inv(eigenvecs)@M2\n",
    "\n",
    "print(np.round((U,D,V),3))\n",
    "print(is_unitary(U),is_unitary(D),is_unitary(V))\n",
    "print(np.round(U@D@V,3))\n",
    "print(np.round(U@np.matrix(D).H@V,3))\n"
   ]
  },
  {
   "cell_type": "code",
   "execution_count": 6,
   "metadata": {},
   "outputs": [
    {
     "name": "stdout",
     "output_type": "stream",
     "text": [
      "[[[ 0.5  +0.j     0.5  -0.j     0.5  +0.j    -0.5  +0.j   ]\n",
      "  [-0.488-0.11j  -0.423-0.267j  0.488+0.11j  -0.423-0.267j]\n",
      "  [ 0.354-0.354j -0.354+0.354j  0.354-0.354j  0.354-0.354j]\n",
      "  [ 0.423-0.267j -0.488+0.11j  -0.423+0.267j -0.488+0.11j ]]\n",
      "\n",
      " [[ 0.   +1.111j  0.   +0.j     0.   +0.j     0.   +0.j   ]\n",
      "  [ 0.   +0.j     0.367+0.j     0.   +0.j     0.   +0.j   ]\n",
      "  [ 0.   +0.j     0.   +0.j     1.014+0.j     0.   +0.j   ]\n",
      "  [ 0.   +0.j     0.   +0.j     0.   +0.j     1.035+0.j   ]]\n",
      "\n",
      " [[ 0.022-0.28j  -0.144+0.294j  0.152-0.732j  0.249-0.655j]\n",
      "  [-0.011+0.278j  0.04 -0.18j   0.035-0.14j  -0.014-0.05j ]\n",
      "  [ 0.509-0.085j  0.492-0.027j  0.414+0.244j -0.373-0.385j]\n",
      "  [-0.291+0.159j -0.664+0.117j  0.358+0.232j -0.513-0.249j]]]\n",
      "True False False\n",
      "[[ 0.563-0.063j  0.438-0.188j  0.438+0.062j  0.438+0.062j]\n",
      " [ 0.313-0.063j  0.688+0.312j -0.312-0.187j -0.312-0.187j]\n",
      " [ 0.188-0.187j -0.188+0.188j  0.812-0.313j -0.188-0.062j]\n",
      " [ 0.063-0.062j -0.062+0.062j -0.063-0.188j  0.938+0.063j]]\n",
      "[[ 0.251-0.086j  0.764-0.027j -0.376-0.106j -0.29 -0.214j]\n",
      " [ 0.611+0.03j   0.404+0.084j  0.443+0.157j  0.336+0.243j]\n",
      " [-0.05 +0.016j  0.157+0.07j   0.118+0.143j -0.897+0.257j]\n",
      " [-0.214+0.083j  0.299+0.024j -0.84 +0.103j  0.175+0.217j]]\n"
     ]
    }
   ],
   "source": [
    "M1,M2 = np.matrix(C_U[:4,:4]),np.matrix(C_U[4:,4:])\n",
    "M_ = M1@M2.H\n",
    "\n",
    "eigenvals,eigenvecs = np.linalg.eigh(M_)\n",
    "\n",
    "U = eigenvecs\n",
    "D = np.sqrt(np.matrix(np.diag(eigenvals),dtype=\"complex\"))\n",
    "V = D@np.linalg.inv(eigenvecs)@M2\n",
    "\n",
    "print(np.round((U,D,V),3))\n",
    "print(is_unitary(U),is_unitary(D),is_unitary(V))\n",
    "print(np.round(U@D@V,3))\n",
    "print(np.round(U@np.matrix(D).H@V,3))"
   ]
  },
  {
   "cell_type": "markdown",
   "metadata": {},
   "source": [
    "#### HHL circuit"
   ]
  },
  {
   "cell_type": "code",
   "execution_count": 7,
   "metadata": {},
   "outputs": [
    {
     "name": "stdout",
     "output_type": "stream",
     "text": [
      "CNOT counts: 104\n"
     ]
    },
    {
     "data": {
      "image/png": "[encoded data removed]",
      "text/plain": [
       "<Figure size 2193.6x505.68 with 1 Axes>"
      ]
     },
     "execution_count": 7,
     "metadata": {},
     "output_type": "execute_result"
    }
   ],
   "source": [
    "t = (1/8)*np.pi\n",
    "\n",
    "def CU_test(A,num):\n",
    "\n",
    "    U_A, C_U = np.eye(4, dtype='complex'), np.eye(8, dtype='complex')\n",
    "    for i in range(num): U_A = U_A.dot(sp.linalg.expm(1j*A*(1/8)*np.pi))\n",
    "    C_U[4:8,4:8] = U_A \n",
    "\n",
    "    qc = QuantumCircuit(3)\n",
    "    phase = 0\n",
    "\n",
    "    if num == 1: phase = CU_12(qc,C_U,range(3),phase)\n",
    "    if num == 2: phase = CU_12(qc,C_U,range(3),phase)\n",
    "    if num == 4: phase = CU_3(qc,C_U,range(3),phase)\n",
    "    if num == 8: phase = CU_4(qc,C_U,range(3),phase)\n",
    "\n",
    "    global_phase_gate(qc,phase,0)\n",
    "    \n",
    "    CU_gate = qc.to_gate()\n",
    "    CU_gate.name = \"CU^{}\".format(num)\n",
    "    \n",
    "    return CU_gate\n",
    "\n",
    "qc = QuantumCircuit(7,3)\n",
    "qc.x([5,6])\n",
    "\n",
    "qc.barrier()\n",
    "\n",
    "qc.h([1,2,3,4])\n",
    "\n",
    "qc.append(CU_test(M,1),[5,6,1])\n",
    "qc.append(CU_test(M,2),[5,6,2])\n",
    "qc.append(CU_test(M,4),[5,6,3])\n",
    "qc.append(CU_test(M,8),[5,6,4])\n",
    "  \n",
    "########## reverse without SWAP ##########\n",
    "qft_dagger(qc,4,[1,2,3,4])\n",
    "qc.barrier()\n",
    "\n",
    "qc.cry(2*np.arcsin(1/1),4,0)\n",
    "qc.cry(2*np.arcsin(1/2),3,0)\n",
    "qc.cry(2*np.arcsin(1/4),2,0)\n",
    "qc.cry(2*np.arcsin(1/8),1,0)\n",
    "\n",
    "qc.barrier()\n",
    "qft(qc,4,[1,2,3,4])\n",
    "########## reverse without SWAP ##########\n",
    "\n",
    "qc.append(CU_test(M,8).inverse(),[5,6,4])\n",
    "qc.append(CU_test(M,4).inverse(),[5,6,3])\n",
    "qc.append(CU_test(M,2).inverse(),[5,6,2])\n",
    "qc.append(CU_test(M,1).inverse(),[5,6,1])\n",
    "\n",
    "qc.h([1,2,3,4])\n",
    "\n",
    "qc.save_statevector()\n",
    "qc.measure([0,5,6],[0,1,2])\n",
    "print(\"CNOT counts:\", qc.decompose().decompose().decompose().decompose().decompose().count_ops()['cx'])\n",
    "qc.draw(output=\"mpl\",fold=-1)"
   ]
  },
  {
   "cell_type": "code",
   "execution_count": 8,
   "metadata": {},
   "outputs": [
    {
     "name": "stdout",
     "output_type": "stream",
     "text": [
      "solution: [-0.09375  0.15625  0.28125  0.46875]\n"
     ]
    }
   ],
   "source": [
    "result = execute(qc, backend=backend, shots=1024, memory=True).result()\n",
    "sv = result.get_statevector()\n",
    "sol_vector = np.real(np.array([sv[1], sv[33], sv[65], sv[97]]))\n",
    "print(\"solution:\", norm*sol_vector/np.linalg.norm(sol_vector))"
   ]
  },
  {
   "cell_type": "code",
   "execution_count": 9,
   "metadata": {},
   "outputs": [],
   "source": [
    "# qc = QuantumCircuit(5)\n",
    "\n",
    "# qc.append(CU_test(M,1),[0,1,2])\n",
    "# qc.append(CU_test(M,2),[0,1,2])\n",
    "# qc.append(CU_test(M,4),[0,1,2])\n",
    "# qc.append(CU_test(M,8),[0,1,2])\n",
    "\n",
    "# qft_dagger(qc,4,[1,2,3,4])\n",
    "\n",
    "# print(np.round(np.matrix(Operator(qc)),3))\n",
    "\n",
    "# print(\"CNOT counts:\", qc.decompose().decompose().decompose().decompose().decompose().count_ops()['cx'])\n",
    "# qc.decompose().draw(output=\"mpl\")"
   ]
  },
  {
   "cell_type": "code",
   "execution_count": null,
   "metadata": {},
   "outputs": [],
   "source": []
  },
  {
   "cell_type": "code",
   "execution_count": null,
   "metadata": {},
   "outputs": [],
   "source": []
  },
  {
   "cell_type": "markdown",
   "metadata": {},
   "source": [
    "Qiskit's built-in HHL"
   ]
  },
  {
   "cell_type": "code",
   "execution_count": 10,
   "metadata": {},
   "outputs": [
    {
     "name": "stdout",
     "output_type": "stream",
     "text": [
      "solution: [-0.09375  0.15625  0.28125  0.46875]\n"
     ]
    },
    {
     "data": {
      "text/html": [
       "<pre style=\"word-wrap: normal;white-space: pre;background: #fff0;line-height: 1.1;font-family: &quot;Courier New&quot;,Courier,monospace\">        ┌───────────┐┌──────┐        ┌─────────┐ ░  ░ ┌─┐                     \n",
       " q49_0: ┤0          ├┤5     ├────────┤5        ├─░──░─┤M├─────────────────────\n",
       "        │  Isometry ││      │        │         │ ░  ░ └╥┘┌─┐                  \n",
       " q49_1: ┤1          ├┤6     ├────────┤6        ├─░──░──╫─┤M├──────────────────\n",
       "        └───────────┘│      │┌──────┐│         │ ░  ░  ║ └╥┘┌─┐               \n",
       " q50_0: ─────────────┤0     ├┤4     ├┤0        ├─░──░──╫──╫─┤M├───────────────\n",
       "                     │      ││      ││         │ ░  ░  ║  ║ └╥┘┌─┐            \n",
       " q50_1: ─────────────┤1 QPE ├┤3     ├┤1 QPE_dg ├─░──░──╫──╫──╫─┤M├────────────\n",
       "                     │      ││      ││         │ ░  ░  ║  ║  ║ └╥┘┌─┐         \n",
       " q50_2: ─────────────┤2     ├┤2     ├┤2        ├─░──░──╫──╫──╫──╫─┤M├─────────\n",
       "                     │      ││  1/x ││         │ ░  ░  ║  ║  ║  ║ └╥┘┌─┐      \n",
       " q50_3: ─────────────┤3     ├┤1     ├┤3        ├─░──░──╫──╫──╫──╫──╫─┤M├──────\n",
       "                     │      ││      ││         │ ░  ░  ║  ║  ║  ║  ║ └╥┘┌─┐   \n",
       " q50_4: ─────────────┤4     ├┤0     ├┤4        ├─░──░──╫──╫──╫──╫──╫──╫─┤M├───\n",
       "                     └──────┘│      │└─────────┘ ░  ░  ║  ║  ║  ║  ║  ║ └╥┘┌─┐\n",
       "   q51: ─────────────────────┤5     ├────────────░──░──╫──╫──╫──╫──╫──╫──╫─┤M├\n",
       "                             └──────┘            ░  ░  ║  ║  ║  ║  ║  ║  ║ └╥┘\n",
       "meas: 8/═══════════════════════════════════════════════╩══╩══╩══╩══╩══╩══╩══╩═\n",
       "                                                       0  1  2  3  4  5  6  7 </pre>"
      ],
      "text/plain": [
       "        ┌───────────┐┌──────┐        ┌─────────┐ ░  ░ ┌─┐                     \n",
       " q49_0: ┤0          ├┤5     ├────────┤5        ├─░──░─┤M├─────────────────────\n",
       "        │  Isometry ││      │        │         │ ░  ░ └╥┘┌─┐                  \n",
       " q49_1: ┤1          ├┤6     ├────────┤6        ├─░──░──╫─┤M├──────────────────\n",
       "        └───────────┘│      │┌──────┐│         │ ░  ░  ║ └╥┘┌─┐               \n",
       " q50_0: ─────────────┤0     ├┤4     ├┤0        ├─░──░──╫──╫─┤M├───────────────\n",
       "                     │      ││      ││         │ ░  ░  ║  ║ └╥┘┌─┐            \n",
       " q50_1: ─────────────┤1 QPE ├┤3     ├┤1 QPE_dg ├─░──░──╫──╫──╫─┤M├────────────\n",
       "                     │      ││      ││         │ ░  ░  ║  ║  ║ └╥┘┌─┐         \n",
       " q50_2: ─────────────┤2     ├┤2     ├┤2        ├─░──░──╫──╫──╫──╫─┤M├─────────\n",
       "                     │      ││  1/x ││         │ ░  ░  ║  ║  ║  ║ └╥┘┌─┐      \n",
       " q50_3: ─────────────┤3     ├┤1     ├┤3        ├─░──░──╫──╫──╫──╫──╫─┤M├──────\n",
       "                     │      ││      ││         │ ░  ░  ║  ║  ║  ║  ║ └╥┘┌─┐   \n",
       " q50_4: ─────────────┤4     ├┤0     ├┤4        ├─░──░──╫──╫──╫──╫──╫──╫─┤M├───\n",
       "                     └──────┘│      │└─────────┘ ░  ░  ║  ║  ║  ║  ║  ║ └╥┘┌─┐\n",
       "   q51: ─────────────────────┤5     ├────────────░──░──╫──╫──╫──╫──╫──╫──╫─┤M├\n",
       "                             └──────┘            ░  ░  ║  ║  ║  ║  ║  ║  ║ └╥┘\n",
       "meas: 8/═══════════════════════════════════════════════╩══╩══╩══╩══╩══╩══╩══╩═\n",
       "                                                       0  1  2  3  4  5  6  7 "
      ]
     },
     "execution_count": 10,
     "metadata": {},
     "output_type": "execute_result"
    }
   ],
   "source": [
    "from qiskit.algorithms.linear_solvers.hhl import HHL\n",
    "from qiskit.quantum_info import Statevector\n",
    "\n",
    "hhl_qc = HHL().construct_circuit(M, b)\n",
    "hhl_qc.save_statevector()\n",
    "hhl_qc.measure_all()\n",
    "\n",
    "result = execute(hhl_qc, backend=backend, shots=4096, memory=True).result()\n",
    "sv = result.get_statevector()\n",
    "sol_vector = np.real(np.array([sv[128], sv[129], sv[130], sv[131]]))\n",
    "print(\"solution:\", norm*sol_vector/np.linalg.norm(sol_vector))\n",
    "\n",
    "hhl_qc.decompose().draw(fold=-1)"
   ]
  },
  {
   "cell_type": "markdown",
   "metadata": {},
   "source": [
    "Quite confusing why Qiskit's built-in HHL uses so much CNOTs"
   ]
  },
  {
   "cell_type": "code",
   "execution_count": 11,
   "metadata": {},
   "outputs": [
    {
     "name": "stdout",
     "output_type": "stream",
     "text": [
      "CNOT counts: 2421\n"
     ]
    }
   ],
   "source": [
    "print(\"CNOT counts:\", hhl_qc.decompose().decompose().decompose().decompose().count_ops()['cx'])"
   ]
  }
 ],
 "metadata": {
  "kernelspec": {
   "display_name": "Python 3.9.12 ('base')",
   "language": "python",
   "name": "python3"
  },
  "language_info": {
   "codemirror_mode": {
    "name": "ipython",
    "version": 3
   },
   "file_extension": ".py",
   "mimetype": "text/x-python",
   "name": "python",
   "nbconvert_exporter": "python",
   "pygments_lexer": "ipython3",
   "version": "3.9.12"
  },
  "orig_nbformat": 4,
  "vscode": {
   "interpreter": {
    "hash": "567066c23fe75d4951ebba463616a12e21f3ac884aba845053c257fc26c45e45"
   }
  }
 },
 "nbformat": 4,
 "nbformat_minor": 2
}
