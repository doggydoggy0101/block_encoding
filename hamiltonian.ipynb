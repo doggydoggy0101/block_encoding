{
 "cells": [
  {
   "cell_type": "code",
   "execution_count": 1,
   "metadata": {},
   "outputs": [],
   "source": [
    "import numpy as np\n",
    "import scipy as sp\n",
    "import scipy.linalg\n",
    "\n",
    "from qiskit import  BasicAer, Aer, execute, assemble, QuantumCircuit, QuantumRegister\n",
    "from qiskit.quantum_info.operators import Operator\n",
    "backend = Aer.get_backend(\"qasm_simulator\")\n",
    "\n",
    "from utils import global_phase_gate, universal_ud"
   ]
  },
  {
   "cell_type": "code",
   "execution_count": 2,
   "metadata": {},
   "outputs": [],
   "source": [
    "def hamiltonian_z(t,qc,qubits):\n",
    "\n",
    "    for i in range(len(qubits)-1): qc.cx(qubits[i],qubits[i+1])\n",
    "\n",
    "    qc.rz(-2*t,qubits[-1])\n",
    "\n",
    "    for i in range(len(qubits)-1,0,-1): qc.cx(qubits[i-1],qubits[i])\n",
    "\n",
    "def hamiltonian_pauli(arr,t,qc,qubits):\n",
    "\n",
    "    new_arr,new_qub = [],[]\n",
    "\n",
    "    for idx in range(len(arr)):\n",
    "        if arr[idx] != 'I':\n",
    "            new_arr.append(arr[idx])\n",
    "            new_qub.append(qubits[idx])\n",
    "\n",
    "    for i in range(len(new_arr)):\n",
    "        if new_arr[i] == 'X': qc.h(new_qub[i])\n",
    "        elif new_arr[i] == 'Y':\n",
    "            # qc.s(new_qub[i])\n",
    "            # qc.h(new_qub[i])\n",
    "            qc.rx(np.pi/2,new_qub[i])\n",
    "            \n",
    "    hamiltonian_z(t,qc,new_qub)\n",
    "    \n",
    "    for i in range(len(new_arr)):\n",
    "        if new_arr[i] == 'X': qc.h(new_qub[i])\n",
    "        elif new_arr[i] == 'Y':\n",
    "            # qc.h(new_qub[i])\n",
    "            # qc.sdg(new_qub[i])\n",
    "            qc.rx(-np.pi/2,new_qub[i])\n",
    "\n",
    "def sim_hamiltonian(hamiltonian,t,qc,qubits,trotter=1):\n",
    "\n",
    "    temp = QuantumCircuit(len(qubits))\n",
    "    delta_t = t/trotter\n",
    "\n",
    "    for pauli in hamiltonian: hamiltonian_pauli(pauli,hamiltonian[pauli]*delta_t,temp,range(len(qubits)))\n",
    "\n",
    "    for i in range(trotter): qc.compose(temp,qubits,inplace=True)\n",
    "\n",
    "    qc = qc.reverse_bits()\n",
    "    return qc\n"
   ]
  },
  {
   "cell_type": "code",
   "execution_count": 3,
   "metadata": {},
   "outputs": [
    {
     "name": "stdout",
     "output_type": "stream",
     "text": [
      "[[ 0.158+0.522j -0.658-0.022j -0.304-0.169j  0.196+0.331j]\n",
      " [-0.658-0.022j  0.158+0.522j -0.196-0.331j  0.304+0.169j]\n",
      " [-0.304-0.169j -0.196-0.331j  0.158+0.522j  0.658+0.022j]\n",
      " [ 0.196+0.331j  0.304+0.169j  0.658+0.022j  0.158+0.522j]]\n"
     ]
    }
   ],
   "source": [
    "M = (1/4)*np.array([[15, 9, 5,-3],\n",
    "                    [ 9,15, 3,-5],\n",
    "                    [ 5, 3,15,-9],\n",
    "                    [-3,-5,-9,15]])\n",
    "\n",
    "t = (1/8)*np.pi\n",
    "\n",
    "U_A = np.eye(4, dtype='complex')\n",
    "for i in range(1): U_A = sp.linalg.expm(1j*M*t)@U_A\n",
    "print(np.round(U_A,3))"
   ]
  },
  {
   "cell_type": "code",
   "execution_count": 4,
   "metadata": {},
   "outputs": [
    {
     "name": "stdout",
     "output_type": "stream",
     "text": [
      "[[ 0.158+0.522j -0.658-0.022j -0.304-0.169j  0.196+0.331j]\n",
      " [-0.658-0.022j  0.158+0.522j -0.196-0.331j  0.304+0.169j]\n",
      " [-0.304-0.169j -0.196-0.331j  0.158+0.522j  0.658+0.022j]\n",
      " [ 0.196+0.331j  0.304+0.169j  0.658+0.022j  0.158+0.522j]]\n",
      "Hamiltonian simulation successful: True\n"
     ]
    },
    {
     "data": {
      "image/png": "[encoded data removed]",
      "text/plain": [
       "<Figure size 989.452x144.48 with 1 Axes>"
      ]
     },
     "execution_count": 4,
     "metadata": {},
     "output_type": "execute_result"
    }
   ],
   "source": [
    "qc = QuantumCircuit(2)\n",
    "phase = (15/4)*t\n",
    "\n",
    "qc = sim_hamiltonian({\"ZX\": 9/4,\"XZ\": 5/4,\"YY\": 3/4},t,qc,[0,1],trotter=1)\n",
    "\n",
    "global_phase_gate(qc,phase,0)\n",
    "\n",
    "print(np.round(np.matrix(Operator(qc)),3))\n",
    "print(\"Hamiltonian simulation successful:\",np.allclose(np.matrix(Operator(qc)),U_A))\n",
    "qc.draw('mpl')"
   ]
  },
  {
   "cell_type": "code",
   "execution_count": 5,
   "metadata": {},
   "outputs": [
    {
     "name": "stdout",
     "output_type": "stream",
     "text": [
      "[[ 0.158+0.522j -0.658-0.022j -0.304-0.169j  0.196+0.331j]\n",
      " [-0.658-0.022j  0.158+0.522j -0.196-0.331j  0.304+0.169j]\n",
      " [-0.304-0.169j -0.196-0.331j  0.158+0.522j  0.658+0.022j]\n",
      " [ 0.196+0.331j  0.304+0.169j  0.658+0.022j  0.158+0.522j]]\n",
      "Unitary decomposition successful: True\n"
     ]
    },
    {
     "data": {
      "image/png": "[encoded data removed]",
      "text/plain": [
       "<Figure size 688.452x144.48 with 1 Axes>"
      ]
     },
     "execution_count": 5,
     "metadata": {},
     "output_type": "execute_result"
    }
   ],
   "source": [
    "qc = QuantumCircuit(2)\n",
    "\n",
    "phase = 0\n",
    "\n",
    "phase = universal_ud(qc,U_A,range(2),phase)\n",
    "global_phase_gate(qc,phase,0)\n",
    "\n",
    "print(np.round(np.matrix(Operator(qc)),3))\n",
    "print(\"Unitary decomposition successful:\",np.allclose(np.matrix(Operator(qc)),U_A))\n",
    "qc.draw('mpl')"
   ]
  }
 ],
 "metadata": {
  "kernelspec": {
   "display_name": "Python 3.9.12 ('base')",
   "language": "python",
   "name": "python3"
  },
  "language_info": {
   "codemirror_mode": {
    "name": "ipython",
    "version": 3
   },
   "file_extension": ".py",
   "mimetype": "text/x-python",
   "name": "python",
   "nbconvert_exporter": "python",
   "pygments_lexer": "ipython3",
   "version": "3.9.12"
  },
  "orig_nbformat": 4,
  "vscode": {
   "interpreter": {
    "hash": "567066c23fe75d4951ebba463616a12e21f3ac884aba845053c257fc26c45e45"
   }
  }
 },
 "nbformat": 4,
 "nbformat_minor": 2
}
