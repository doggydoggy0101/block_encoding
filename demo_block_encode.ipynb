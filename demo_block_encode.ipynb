{
 "cells": [
  {
   "cell_type": "code",
   "execution_count": 1,
   "metadata": {},
   "outputs": [],
   "source": [
    "import numpy as np\n",
    "import scipy as sp\n",
    "from scipy import linalg\n",
    "\n",
    "from qiskit import QuantumCircuit\n",
    "from qiskit.quantum_info.operators import Operator\n",
    "\n",
    "from utils_decompose import ucry_decomposition_optimize, zyz_decomposition, global_phase_gate\n",
    "from utils_block_encode import is_unitary, block_encode_matrix, transfer_matrix, abc_decomposition\n",
    "\n",
    "from utils import universal_ud ,universal_cu_2, universal_be"
   ]
  },
  {
   "cell_type": "code",
   "execution_count": 2,
   "metadata": {},
   "outputs": [
    {
     "name": "stdout",
     "output_type": "stream",
     "text": [
      "Original matirx:\n",
      " [[-2.075-5.809j -9.982-0.92j ]\n",
      " [ 3.834+0.72j   7.037+2.007j]]\n",
      "-> divisor: 14.398220908716155\n",
      "Matrix with norm < 1:\n",
      " [[-0.144-0.403j -0.693-0.064j]\n",
      " [ 0.266+0.05j   0.489+0.139j]]\n"
     ]
    }
   ],
   "source": [
    "rng = np.random.RandomState()\n",
    "\n",
    "N = 2\n",
    "M = rng.rand(N,N)*20-10 + (rng.rand(N,N)*20-10)*1j\n",
    "R = np.linalg.norm(M)\n",
    "\n",
    "if R > 1: \n",
    "    print(\"Original matirx:\\n\",np.round(M,3))\n",
    "    print(\"-> divisor:\",R)\n",
    "    M = M/R\n",
    "\n",
    "print(\"Matrix with norm < 1:\\n\",np.round(M,3))"
   ]
  },
  {
   "cell_type": "markdown",
   "metadata": {},
   "source": [
    "Unitary decomposition"
   ]
  },
  {
   "cell_type": "code",
   "execution_count": 3,
   "metadata": {},
   "outputs": [
    {
     "name": "stdout",
     "output_type": "stream",
     "text": [
      "Matrix:\n",
      " [[-0.144-0.403j -0.693-0.064j]\n",
      " [ 0.266+0.05j   0.489+0.139j]]\n",
      "-> untary: False\n",
      "Circuit matrix:\n",
      " [[-0.144-0.403j -0.693-0.064j -0.116-0.165j -0.346+0.414j]\n",
      " [ 0.266+0.05j   0.489+0.139j  0.087+0.103j -0.462+0.661j]\n",
      " [ 0.115-0.j     0.152-0.15j  -0.97 -0.j     0.   +0.j   ]\n",
      " [-0.854-0.j     0.328-0.322j  0.   -0.j    -0.243+0.j   ]]\n",
      "-> untary: True\n"
     ]
    },
    {
     "data": {
      "image/png": "[encoded data removed]",
      "text/plain": [
       "<Figure size 808.852x144.48 with 1 Axes>"
      ]
     },
     "execution_count": 3,
     "metadata": {},
     "output_type": "execute_result"
    }
   ],
   "source": [
    "U, D, V = np.linalg.svd(M, full_matrices=True)\n",
    "M_enlarge,U_enlarge,D_enlarge,V_enlarge = block_encode_matrix(M,U,D,V,N)\n",
    "\n",
    "# print(\"Encoded matrix:\\n\",np.round(M_enlarge,3))\n",
    "# print(\"-> untary:\", is_unitary(M_enlarge))\n",
    "\n",
    "# print(\"Decomposed matrix:\\n\",np.round(U_enlarge@D_enlarge@V_enlarge,3))\n",
    "# print(\"-> untary:\", is_unitary(U_enlarge@D_enlarge@V_enlarge))\n",
    "\n",
    "qc = QuantumCircuit(N)\n",
    "phase = 0\n",
    "\n",
    "phase = universal_ud(qc,U_enlarge@D_enlarge@V_enlarge,[0,1],phase)\n",
    "global_phase_gate(qc,phase,0)\n",
    "\n",
    "print(\"Matrix:\\n\",np.round(M,3))\n",
    "print(\"-> untary:\", is_unitary(M))\n",
    "\n",
    "print(\"Circuit matrix:\\n\",np.round(np.matrix(Operator(qc)),3))\n",
    "print(\"-> untary:\", is_unitary(Operator(qc)))\n",
    "qc.draw(output=\"mpl\",fold=-1)"
   ]
  },
  {
   "cell_type": "markdown",
   "metadata": {},
   "source": [
    "Block encoding (control unitary)"
   ]
  },
  {
   "cell_type": "code",
   "execution_count": 4,
   "metadata": {},
   "outputs": [
    {
     "name": "stdout",
     "output_type": "stream",
     "text": [
      "Matrix:\n",
      " [[-0.144-0.403j -0.693-0.064j]\n",
      " [ 0.266+0.05j   0.489+0.139j]]\n",
      "-> untary: False\n",
      "Circuit matrix:\n",
      " [[-0.144-0.403j -0.693-0.064j  0.116+0.165j -0.346+0.414j]\n",
      " [ 0.266+0.05j   0.489+0.139j -0.087-0.103j -0.462+0.661j]\n",
      " [ 0.115+0.j     0.152-0.15j   0.97 +0.j    -0.   +0.j   ]\n",
      " [-0.854+0.j     0.328-0.322j  0.   +0.j    -0.243+0.j   ]]\n",
      "-> untary: True\n"
     ]
    },
    {
     "data": {
      "image/png": "[encoded data removed]",
      "text/plain": [
       "<Figure size 1290.45x144.48 with 1 Axes>"
      ]
     },
     "execution_count": 4,
     "metadata": {},
     "output_type": "execute_result"
    }
   ],
   "source": [
    "qc = QuantumCircuit(N)\n",
    "\n",
    "qc.x(1)\n",
    "abc_decomposition(qc,V,1,0)\n",
    "qc.x(1)\n",
    "\n",
    "qc.barrier()\n",
    "# qc.z(1)\n",
    "ucry_decomposition_optimize(qc,2,np.real(D_enlarge@transfer_matrix(N)),[0,1])\n",
    "qc.barrier()\n",
    "\n",
    "qc.x(1)\n",
    "phase = abc_decomposition(qc,U,1,0)\n",
    "qc.x(1)\n",
    "\n",
    "\n",
    "print(\"Matrix:\\n\",np.round(M,3))\n",
    "print(\"-> untary:\", is_unitary(M))\n",
    "\n",
    "print(\"Circuit matrix:\\n\",np.round(np.matrix(Operator(qc)),3))\n",
    "print(\"-> untary:\", is_unitary(Operator(qc)))\n",
    "qc.draw(output=\"mpl\",fold=-1)"
   ]
  },
  {
   "cell_type": "markdown",
   "metadata": {},
   "source": [
    "Block encoding (control unitary as 2-qubit unitary)"
   ]
  },
  {
   "cell_type": "code",
   "execution_count": 5,
   "metadata": {},
   "outputs": [
    {
     "name": "stdout",
     "output_type": "stream",
     "text": [
      "Matrix:\n",
      " [[-0.144-0.403j -0.693-0.064j]\n",
      " [ 0.266+0.05j   0.489+0.139j]]\n",
      "-> untary: False\n",
      "Circuit matrix:\n",
      " [[-0.144-0.403j -0.693-0.064j  0.116+0.165j -0.346+0.414j]\n",
      " [ 0.266+0.05j   0.489+0.139j -0.087-0.103j -0.462+0.661j]\n",
      " [ 0.115+0.j     0.152-0.15j   0.97 +0.j    -0.   +0.j   ]\n",
      " [-0.854+0.j     0.328-0.322j -0.   +0.j    -0.243-0.j   ]]\n",
      "-> untary: True\n"
     ]
    },
    {
     "data": {
      "image/png": "[encoded data removed]",
      "text/plain": [
       "<Figure size 1471.05x144.48 with 1 Axes>"
      ]
     },
     "execution_count": 5,
     "metadata": {},
     "output_type": "execute_result"
    }
   ],
   "source": [
    "qc = QuantumCircuit(N)\n",
    "\n",
    "phase = 0\n",
    "\n",
    "phase = universal_cu_2(qc,V_enlarge,[0,1],phase)\n",
    "qc.barrier()\n",
    "\n",
    "# qc.z(N-1)\n",
    "ucry_decomposition_optimize(qc,N,np.real(D_enlarge@transfer_matrix(N)),[0,1])\n",
    "\n",
    "qc.barrier()\n",
    "phase = universal_cu_2(qc,U_enlarge,[0,1],phase)\n",
    "\n",
    "global_phase_gate(qc,phase,0)\n",
    "\n",
    "\n",
    "print(\"Matrix:\\n\",np.round(M,3))\n",
    "print(\"-> untary:\", is_unitary(M))\n",
    "\n",
    "print(\"Circuit matrix:\\n\",np.round(np.matrix(Operator(qc)),3))\n",
    "print(\"-> untary:\", is_unitary(Operator(qc)))\n",
    "qc.draw(output=\"mpl\",fold=-1)"
   ]
  },
  {
   "cell_type": "markdown",
   "metadata": {},
   "source": [
    "Block encoding"
   ]
  },
  {
   "cell_type": "code",
   "execution_count": 6,
   "metadata": {},
   "outputs": [
    {
     "name": "stdout",
     "output_type": "stream",
     "text": [
      "Matrix:\n",
      " [[-0.144-0.403j -0.693-0.064j]\n",
      " [ 0.266+0.05j   0.489+0.139j]]\n",
      "-> untary: False\n",
      "Circuit matrix:\n",
      " [[-0.144-0.403j -0.693-0.064j  0.359-0.287j  0.195+0.287j]\n",
      " [ 0.266+0.05j   0.489+0.139j  0.365-0.631j -0.055+0.365j]\n",
      " [ 0.249-0.443j -0.154+0.223j -0.296-0.221j -0.704-0.191j]\n",
      " [ 0.448-0.533j  0.181+0.388j  0.063+0.341j  0.457-0.049j]]\n",
      "-> untary: True\n"
     ]
    },
    {
     "data": {
      "image/png": "[encoded data removed]",
      "text/plain": [
       "<Figure size 808.852x144.48 with 1 Axes>"
      ]
     },
     "execution_count": 6,
     "metadata": {},
     "output_type": "execute_result"
    }
   ],
   "source": [
    "qc = QuantumCircuit(N)\n",
    "phase = 0\n",
    "\n",
    "phase = universal_ud(qc,V,range(N-1),phase)\n",
    "qc.barrier()\n",
    "\n",
    "ucry_decomposition_optimize(qc,N,np.real(D_enlarge@transfer_matrix(N)),range(N))\n",
    "\n",
    "qc.barrier()\n",
    "phase = universal_ud(qc,U,range(N-1),phase)\n",
    "\n",
    "# phase = universal_be(qc,M,range(N),phase)\n",
    "\n",
    "qc.barrier()\n",
    "global_phase_gate(qc,phase,0)\n",
    "\n",
    "print(\"Matrix:\\n\",np.round(M,3))\n",
    "print(\"-> untary:\", is_unitary(M))\n",
    "\n",
    "print(\"Circuit matrix:\\n\",np.round(np.matrix(Operator(qc)),3))\n",
    "print(\"-> untary:\", is_unitary(Operator(qc)))\n",
    "qc.draw(output=\"mpl\",fold=-1)"
   ]
  }
 ],
 "metadata": {
  "kernelspec": {
   "display_name": "Python 3.9.12 ('base')",
   "language": "python",
   "name": "python3"
  },
  "language_info": {
   "codemirror_mode": {
    "name": "ipython",
    "version": 3
   },
   "file_extension": ".py",
   "mimetype": "text/x-python",
   "name": "python",
   "nbconvert_exporter": "python",
   "pygments_lexer": "ipython3",
   "version": "3.9.12"
  },
  "orig_nbformat": 4,
  "vscode": {
   "interpreter": {
    "hash": "567066c23fe75d4951ebba463616a12e21f3ac884aba845053c257fc26c45e45"
   }
  }
 },
 "nbformat": 4,
 "nbformat_minor": 2
}
